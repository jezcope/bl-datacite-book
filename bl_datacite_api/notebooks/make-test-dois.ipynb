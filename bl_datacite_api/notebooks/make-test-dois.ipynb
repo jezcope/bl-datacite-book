{
 "cells": [
  {
   "cell_type": "markdown",
   "id": "f4a3daa4-7b9f-48ec-8ba0-fd2e376c3da5",
   "metadata": {
    "slideshow": {
     "slide_type": ""
    },
    "tags": []
   },
   "source": [
    "# Creating test DOIs with the DataCite DOI\n",
    "\n",
    "```{admonition} TODO\n",
    "- [ ] Get section reviewed by a beta reader\n",
    "- [ ] Add \"where next?\" links\n",
    "```\n",
    "\n",
    "This notebook shows how to use the Python `faker` package to randomly generate DOI metadata for testing purposes, and to create DOIs in the test service using that metadata.\n",
    "\n",
    "## Setting up\n",
    "\n",
    "Because we are making changes, we will need to **authenticate** ourselves (prove that we are permitted to make these changes) by providing a Repository ID and password. Rather than saving them in this notebook directly (which would reveal them to _anyone_ with access to the notebook), we instead store them in a separate file called `.env`. `.env` files are a common way of doing this and are supported in Python by the [`python-dotenv`](https://saurabh-kumar.com/python-dotenv/) library. You can specify your own ID and password by creating a file called `.env` in the same folder as this notebook, with contents similar to the following:\n",
    "\n",
    "```sh\n",
    "REPO_ID=<repository ID here>\n",
    "REPO_PW=<repository password here>\n",
    "```\n",
    "\n",
    "We load these into Python as follows:"
   ]
  },
  {
   "cell_type": "code",
   "execution_count": 1,
   "id": "ffdb7e64-abbb-468e-b13d-f381993c905f",
   "metadata": {},
   "outputs": [],
   "source": [
    "from dotenv import load_dotenv\n",
    "from os import getenv\n",
    "\n",
    "load_dotenv()\n",
    "REPO_ID = getenv('REPO_ID')\n",
    "REPO_PW = getenv('REPO_PW')"
   ]
  },
  {
   "cell_type": "markdown",
   "id": "e3755d91-ee5a-4cbb-a4af-8fdb85f438ec",
   "metadata": {},
   "source": [
    "We access the DataCite API using Hypertext Transfer Protocol (HTTP), the same protocol that your web browser uses to load this page! There are a number of Python libraries that make this easier, and here we will use one of the most popular, [Requests](https://requests.readthedocs.io/en/latest/). This is the same library that the example Python code on [DataCite REST API reference](https://support.datacite.org/reference/introduction) uses.\n",
    "\n",
    "To avoid having to specify the ID and password with every request we make to the API, we create a Session object holding persistent parameters that will be added to every request we make:"
   ]
  },
  {
   "cell_type": "code",
   "execution_count": 2,
   "id": "c3d4a696-aac9-402a-8761-581706abfe82",
   "metadata": {},
   "outputs": [],
   "source": [
    "import requests\n",
    "\n",
    "s = requests.Session()\n",
    "s.auth = (REPO_ID, REPO_PW)"
   ]
  },
  {
   "cell_type": "markdown",
   "id": "6b3eb67e-16b5-436e-b1f6-e8c0e6cdc88a",
   "metadata": {},
   "source": [
    "## Using the API\n",
    "\n",
    "Now we're ready to make our first API call! We do this by sending a HTTP `GET` request to a specific URL, which includes the name of the API server (`api.test.datacite.org` for testing), the name of the \"endpoint\" (`/clients`) and our repository ID converted to lower case. This returns us some useful information about the Repository, including the list of available prefixes.\n",
    "\n",
    "_N.B. DataCite used to refer to Repositories as \"clients\" and this terminology is still present in the API for backward compatibility with older code._"
   ]
  },
  {
   "cell_type": "code",
   "execution_count": 3,
   "id": "6077d47f-af7e-4369-ab37-39b0f91bc9c2",
   "metadata": {},
   "outputs": [
    {
     "name": "stdout",
     "output_type": "stream",
     "text": [
      "Available prefixes:\n",
      "10.80604\n"
     ]
    }
   ],
   "source": [
    "response = s.get(f'https://api.test.datacite.org/clients/{REPO_ID.lower()}')\n",
    "client_info = response.json()\n",
    "\n",
    "print(\"Available prefixes:\")\n",
    "print(\"\\n\".join(p['id'] for p in client_info['data']['relationships']['prefixes']['data']))"
   ]
  },
  {
   "cell_type": "markdown",
   "id": "4c41c92d-f22a-412f-8a6b-08c5bd73c4be",
   "metadata": {},
   "source": [
    "Ok! Our access works, as we've successfully fetched a list of prefixes that we're allowed to use with this Repository. Usually, as in this case, there will only be one but occasionally you may find several.\n",
    "\n",
    "## Creating new DOIs\n",
    "\n",
    "For convenience we will set some more parameters that we can reuse later to save repeating ourselves and risking making a mistake:"
   ]
  },
  {
   "cell_type": "code",
   "execution_count": 4,
   "id": "6a6a901a-e2ad-43f8-a2b7-927d8ff1dd24",
   "metadata": {},
   "outputs": [],
   "source": [
    "DOI_COUNT = 5\n",
    "PREFIX = client_info['data']['relationships']['prefixes']['data'][0]['id']\n",
    "PUBLISHER = \"University of Poppleton\"\n",
    "PUB_YEAR = 2021"
   ]
  },
  {
   "cell_type": "markdown",
   "id": "f2ad96f8-4dae-4897-8b9c-2b07a93e0555",
   "metadata": {},
   "source": [
    "We're creating test DOIs, so the metadata for these DOIs could be any nonsense we choose. However, it'll be easier to spot problems if we choose \"real-looking\" data for these. Let's use a Python library called [Faker](https://faker.readthedocs.io/en/master/) which has a lot of utilities for randomly generating text of different types, like names, addresses, sentences, paragraphs, etc."
   ]
  },
  {
   "cell_type": "code",
   "execution_count": 5,
   "id": "2dbd56e3-32c1-4d84-8b74-f3154810a768",
   "metadata": {},
   "outputs": [],
   "source": [
    "from faker import Faker"
   ]
  },
  {
   "cell_type": "markdown",
   "id": "f57f6a8b-b5bc-48ac-9858-e3b52a6164a1",
   "metadata": {},
   "source": [
    "Next we'll define a function that will fill in a template to generate a minimal set of valid metadata given only a prefix, publisher and publication year. Breaking up your code into reusable pieces like this is a good practice: it minimises the chance of errors from duplicating code, and breaks your code up into smaller units that are easier to understand at a glance.\n",
    "\n",
    "We will send this data to DataCite in JSON format, but for convenience we can write it out in plain Python code as a dictionary and let Requests convert it to JSON behind the scenes. The structure of this data is as shown in the [Add a new DOI](https://support.datacite.org/reference/post_dois) reference documentation.\n",
    "\n",
    "- Setting `event` to `\"publish\"` will immediately publish the DOI in the Discoverable state if there are no errors in the metadata; it can also be set to `\"hide\"` for a Draft DOI (only visible in Fabrica) or `\"register\"` for a Registered DOI (resolvable but not returned in search results)\n",
    "- Setting `prefix` and not specifying the DOI will cause the API to generate a random DOI suffix for us, of the form `XXXX-XXXX`\n",
    "- There are many more attributes that can be specified (see the [DataCite Schema](http://schema.datacite.org/) for a full list); this is the minimal set required to publish a DOI"
   ]
  },
  {
   "cell_type": "code",
   "execution_count": 14,
   "id": "cba72a6c-829e-4cd4-ba1b-398b62ab19af",
   "metadata": {},
   "outputs": [],
   "source": [
    "def make_fake_doi(prefix, publisher, pub_year, fake=Faker()):\n",
    "    return {\n",
    "      \"data\": {\n",
    "        \"type\": \"dois\",\n",
    "        \"attributes\": {\n",
    "          \"event\": \"publish\",\n",
    "          \"prefix\": prefix,\n",
    "          \"creators\": [{\"name\": fake.name()} for _ in range(3)],\n",
    "          \"titles\": [{\"title\": fake.sentence()[:-1]}],\n",
    "          \"publisher\": publisher,\n",
    "          \"publicationYear\": pub_year,\n",
    "          \"types\": {\n",
    "            \"resourceType\": \"Report\",\n",
    "            \"resourceTypeGeneral\": \"Text\",\n",
    "          },\n",
    "          \"url\": fake.url(schemes=('https',)),\n",
    "          \"schemaVersion\": \"http://datacite.org/schema/kernel-4\",\n",
    "        }\n",
    "      }\n",
    "    }"
   ]
  },
  {
   "cell_type": "markdown",
   "id": "7fcd23a1-22ad-4792-8e4b-2e35d9065158",
   "metadata": {},
   "source": [
    "Now we're ready to make some DOIs! To create a new DOI we need to send another HTTP request, this time a `POST` request to the `/dois` endpoint, including the metadata in JSON format. The response comes back in JSON format too, which we need to convert to a Python dictionary to inspect. This is such a common pattern that Requests makes it fairly easy for us. Since we didn't explicitly set a suffix the API will have generated one for us, and we will be able to pull that from the `id` field in the returned data; we collect these new DOIs in the `test_dois` list."
   ]
  },
  {
   "cell_type": "code",
   "execution_count": 15,
   "id": "231befc4-0c49-49f9-b9c7-540a785bc7af",
   "metadata": {},
   "outputs": [],
   "source": [
    "test_dois = []\n",
    "for i in range(DOI_COUNT):\n",
    "    params = make_fake_doi(PREFIX, PUBLISHER, PUB_YEAR)\n",
    "    response = s.post('https://api.test.datacite.org/dois', json=params)\n",
    "    response.raise_for_status()\n",
    "    doi_info = response.json()\n",
    "    new_doi = doi_info['data']['id']\n",
    "    test_dois.append(new_doi)"
   ]
  },
  {
   "cell_type": "markdown",
   "id": "365c3de6-d8fb-4972-a9da-0ce61dbe4fdf",
   "metadata": {},
   "source": [
    "This hasn't given us any output, but it hasn't shown any warnings or errors either so it must have worked. To be sure, let's try fetching those DOIs back from the API, a `GET` request to the `/dois` endpoint, and display some of their metadata."
   ]
  },
  {
   "cell_type": "code",
   "execution_count": 16,
   "id": "0c1022c6-0946-4485-bd70-a1135176df2a",
   "metadata": {},
   "outputs": [
    {
     "name": "stdout",
     "output_type": "stream",
     "text": [
      "10.80604/01b6-3f48 https://www.ortega.com/ Research land give threat population\n",
      "10.80604/t38p-x492 https://diaz.net/ Picture within challenge themselves\n",
      "10.80604/yg56-7v87 https://www.harris.com/ Realize the anything movie\n",
      "10.80604/7tke-wf62 https://adams.info/ View citizen public answer take\n",
      "10.80604/cr5f-xd90 https://www.ramirez.com/ Order radio drug establish\n"
     ]
    }
   ],
   "source": [
    "for doi in test_dois:\n",
    "    response = s.get(f'https://api.test.datacite.org/dois/{doi}')\n",
    "    response.raise_for_status()\n",
    "    doi_data = response.json()['data']\n",
    "    print(doi_data['id'],\n",
    "          doi_data['attributes']['url'],\n",
    "          doi_data['attributes']['titles'][0]['title'])"
   ]
  },
  {
   "cell_type": "markdown",
   "id": "741f0e34-6e60-4904-84cf-49438aa3e4c8",
   "metadata": {},
   "source": [
    "Yes, that looks promising. It's also possible to check them by logging into [Fabrica Test](https://doi.test.datacite.org) on the web.\n",
    "\n",
    "## Updating DOIs\n",
    "\n",
    "The final thing we can do is to update existing DOIs. Although in this case, we'll just generate another fake URL, we would usually know what changes we want to make to a set of DOIs, and specify them in one of two ways:\n",
    "\n",
    "1. Create a spreadsheet listing the new metadata for each DOI we want to update, and read it into Python using a library like Pandas before making the changes:\n",
    "    - `updates = pandas.read_excel(\"DOI_updates.xlsx\")`\n",
    "2. Specify a transformation directly using Python, such as replacing `pure.poppleton.ac.uk` with `openaccess.poppleton.ac.uk` in every URL:\n",
    "    - `new_url = old_url.replace(\"pure.poppleton.ac.uk\", \"openaccess.poppleton.ac.uk\")`\n",
    "    \n",
    "Updating an existing DOI requires us to make a `PUT` request to a special endpoint including the DOI itself, `/dois/<prefix>/<suffix>` (where `<prefix>` and `<suffix>` are replaced with the actual prefix and suffix for the DOI):"
   ]
  },
  {
   "cell_type": "code",
   "execution_count": 13,
   "id": "677dfe3a-7123-4d1f-be3d-992c7bd6e49f",
   "metadata": {},
   "outputs": [
    {
     "name": "stdout",
     "output_type": "stream",
     "text": [
      "Updating 10.80604/apkn-8a80 to https://www.jones.com/\n",
      "Updating 10.80604/8c3v-4n24 to https://www.george.biz/\n",
      "Updating 10.80604/5hqm-p271 to https://www.mitchell-harper.com/\n",
      "Updating 10.80604/qqnn-ng49 to https://petty.info/\n",
      "Updating 10.80604/0ph3-sf17 to https://spencer.biz/\n",
      "10.80604/apkn-8a80 now points to https://www.jones.com/\n",
      "10.80604/8c3v-4n24 now points to https://www.george.biz/\n",
      "10.80604/5hqm-p271 now points to https://www.mitchell-harper.com/\n",
      "10.80604/qqnn-ng49 now points to https://petty.info/\n",
      "10.80604/0ph3-sf17 now points to https://spencer.biz/\n"
     ]
    }
   ],
   "source": [
    "fake = Faker()\n",
    "\n",
    "for doi in test_dois:\n",
    "    new_url = fake.url(schemes=('https',))\n",
    "    print(\"Updating\", doi, \"to\", new_url)\n",
    "    update_params = {'data': {'attributes': {'url': new_url}}}\n",
    "    response = s.put(f'https://api.test.datacite.org/dois/{doi}', json=update_params)\n",
    "    response.raise_for_status()\n",
    "    \n",
    "for doi in test_dois:\n",
    "    response = s.get(f'https://api.test.datacite.org/dois/{doi}')\n",
    "    response.raise_for_status()\n",
    "    doi_data = response.json()['data']\n",
    "    print(doi_data['id'], \"now points to\", doi_data['attributes']['url'])"
   ]
  },
  {
   "cell_type": "markdown",
   "id": "fb79e279-5215-4cb2-ac49-43fd2454a2da",
   "metadata": {},
   "source": [
    "## What's next?\n",
    "\n",
    "To learn more about the DataCite API in detail, take a look at {doc}`../resources`."
   ]
  }
 ],
 "metadata": {
  "kernelspec": {
   "display_name": "Python 3 (ipykernel)",
   "language": "python",
   "name": "python3"
  },
  "language_info": {
   "codemirror_mode": {
    "name": "ipython",
    "version": 3
   },
   "file_extension": ".py",
   "mimetype": "text/x-python",
   "name": "python",
   "nbconvert_exporter": "python",
   "pygments_lexer": "ipython3",
   "version": "3.9.9"
  }
 },
 "nbformat": 4,
 "nbformat_minor": 5
}
